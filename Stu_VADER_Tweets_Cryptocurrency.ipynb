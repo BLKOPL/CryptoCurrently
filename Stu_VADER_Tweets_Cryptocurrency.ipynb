{
 "cells": [
  {
   "cell_type": "code",
   "execution_count": 1,
   "metadata": {
    "collapsed": true
   },
   "outputs": [],
   "source": [
    "# Dependencies\n",
    "import tweepy\n",
    "import numpy as np\n",
    "import pandas as pd\n",
    "\n",
    "# Import and Initialize Sentiment Analyzer\n",
    "from vaderSentiment.vaderSentiment import SentimentIntensityAnalyzer\n",
    "analyzer = SentimentIntensityAnalyzer()\n",
    "\n",
    "# Twitter API Keys\n",
    "from config import (consumer_key,\n",
    "                    consumer_secret,\n",
    "                    access_token,\n",
    "                    access_token_secret)\n",
    "\n",
    "# Setup Tweepy API Authentication\n",
    "auth = tweepy.OAuthHandler(consumer_key, consumer_secret)\n",
    "auth.set_access_token(access_token, access_token_secret)\n",
    "api = tweepy.API(auth, parser=tweepy.parsers.JSONParser())"
   ]
  },
  {
   "cell_type": "code",
   "execution_count": 2,
   "metadata": {},
   "outputs": [
    {
     "name": "stdout",
     "output_type": "stream",
     "text": [
      "User: @DalaiLama\n",
      "Compound: 0.487\n",
      "Positive: 0.263\n",
      "Neutral: 0.687\n",
      "Negative: 0.051\n",
      "User: @realdonaldtrump\n",
      "Compound: 0.193\n",
      "Positive: 0.165\n",
      "Neutral: 0.756\n",
      "Negative: 0.079\n",
      "User: @katyperry\n",
      "Compound: 0.200\n",
      "Positive: 0.126\n",
      "Neutral: 0.845\n",
      "Negative: 0.029\n"
     ]
    }
   ],
   "source": [
    "# Target User Accounts\n",
    "target_user = (\"@DalaiLama\", \"@realdonaldtrump\", \"@katyperry\")\n",
    "\n",
    "# List for dictionaries of results\n",
    "results_list = []\n",
    "\n",
    "# Loop through each user\n",
    "for user in target_user:\n",
    "\n",
    "    # Variables for holding sentiments\n",
    "    compound_list = []\n",
    "    positive_list = []\n",
    "    negative_list = []\n",
    "    neutral_list = []\n",
    "\n",
    "    # Loop through 10 pages of tweets (total 200 tweets)\n",
    "    for x in range(1, 11):\n",
    "\n",
    "        # Get all tweets from home feed\n",
    "        public_tweets = api.user_timeline(user, page=x)\n",
    "\n",
    "        # Loop through all tweets\n",
    "        for tweet in public_tweets:\n",
    "\n",
    "            # Run Vader Analysis on each tweet\n",
    "            results = analyzer.polarity_scores(tweet[\"text\"])\n",
    "            compound = results[\"compound\"]\n",
    "            pos = results[\"pos\"]\n",
    "            neu = results[\"neu\"]\n",
    "            neg = results[\"neg\"]\n",
    "\n",
    "            # Add each value to the appropriate list\n",
    "            compound_list.append(compound)\n",
    "            positive_list.append(pos)\n",
    "            negative_list.append(neg)\n",
    "            neutral_list.append(neu)\n",
    "\n",
    "    # Create a dictionaty of results\n",
    "    user_results = {\n",
    "        \"Username\": user,\n",
    "        \"Compound Score\": np.mean(compound_list),\n",
    "        \"Postive Score\": np.mean(positive_list),\n",
    "        \"Neutral Score\": np.mean(neutral_list),\n",
    "        \"Negative Score\": np.mean(negative_list)\n",
    "    }\n",
    "\n",
    "    # Append dictionary to list\n",
    "    results_list.append(user_results)\n",
    "\n",
    "    # Print the Averages\n",
    "    print(f\"User: {user}\")\n",
    "    print(f\"Compound: {np.mean(compound_list):.3f}\")\n",
    "    print(f\"Positive: {np.mean(positive_list):.3f}\")\n",
    "    print(f\"Neutral: {np.mean(neutral_list):.3f}\")\n",
    "    print(f\"Negative: {np.mean(negative_list):.3f}\")"
   ]
  },
  {
   "cell_type": "code",
   "execution_count": 3,
   "metadata": {},
   "outputs": [
    {
     "data": {
      "text/html": [
       "<div>\n",
       "<style>\n",
       "    .dataframe thead tr:only-child th {\n",
       "        text-align: right;\n",
       "    }\n",
       "\n",
       "    .dataframe thead th {\n",
       "        text-align: left;\n",
       "    }\n",
       "\n",
       "    .dataframe tbody tr th {\n",
       "        vertical-align: top;\n",
       "    }\n",
       "</style>\n",
       "<table border=\"1\" class=\"dataframe\">\n",
       "  <thead>\n",
       "    <tr style=\"text-align: right;\">\n",
       "      <th></th>\n",
       "      <th>Compound Score</th>\n",
       "      <th>Negative Score</th>\n",
       "      <th>Neutral Score</th>\n",
       "      <th>Postive Score</th>\n",
       "    </tr>\n",
       "    <tr>\n",
       "      <th>Username</th>\n",
       "      <th></th>\n",
       "      <th></th>\n",
       "      <th></th>\n",
       "      <th></th>\n",
       "    </tr>\n",
       "  </thead>\n",
       "  <tbody>\n",
       "    <tr>\n",
       "      <th>@DalaiLama</th>\n",
       "      <td>0.487</td>\n",
       "      <td>0.051</td>\n",
       "      <td>0.687</td>\n",
       "      <td>0.263</td>\n",
       "    </tr>\n",
       "    <tr>\n",
       "      <th>@realdonaldtrump</th>\n",
       "      <td>0.193</td>\n",
       "      <td>0.078</td>\n",
       "      <td>0.756</td>\n",
       "      <td>0.165</td>\n",
       "    </tr>\n",
       "    <tr>\n",
       "      <th>@katyperry</th>\n",
       "      <td>0.200</td>\n",
       "      <td>0.029</td>\n",
       "      <td>0.845</td>\n",
       "      <td>0.126</td>\n",
       "    </tr>\n",
       "  </tbody>\n",
       "</table>\n",
       "</div>"
      ],
      "text/plain": [
       "                  Compound Score  Negative Score  Neutral Score  Postive Score\n",
       "Username                                                                      \n",
       "@DalaiLama                 0.487           0.051          0.687          0.263\n",
       "@realdonaldtrump           0.193           0.078          0.756          0.165\n",
       "@katyperry                 0.200           0.029          0.845          0.126"
      ]
     },
     "execution_count": 3,
     "metadata": {},
     "output_type": "execute_result"
    }
   ],
   "source": [
    "# Create DataFrame from Results List\n",
    "results_df = pd.DataFrame(results_list).set_index(\"Username\").round(3)\n",
    "results_df"
   ]
  }
 ],
 "metadata": {
  "kernelspec": {
   "display_name": "Python 3",
   "language": "python",
   "name": "python3"
  },
  "language_info": {
   "codemirror_mode": {
    "name": "ipython",
    "version": 3
   },
   "file_extension": ".py",
   "mimetype": "text/x-python",
   "name": "python",
   "nbconvert_exporter": "python",
   "pygments_lexer": "ipython3",
   "version": "3.6.5"
  },
  "varInspector": {
   "cols": {
    "lenName": 16,
    "lenType": 16,
    "lenVar": 40
   },
   "kernels_config": {
    "python": {
     "delete_cmd_postfix": "",
     "delete_cmd_prefix": "del ",
     "library": "var_list.py",
     "varRefreshCmd": "print(var_dic_list())"
    },
    "r": {
     "delete_cmd_postfix": ") ",
     "delete_cmd_prefix": "rm(",
     "library": "var_list.r",
     "varRefreshCmd": "cat(var_dic_list()) "
    }
   },
   "types_to_exclude": [
    "module",
    "function",
    "builtin_function_or_method",
    "instance",
    "_Feature"
   ],
   "window_display": false
  }
 },
 "nbformat": 4,
 "nbformat_minor": 2
}
